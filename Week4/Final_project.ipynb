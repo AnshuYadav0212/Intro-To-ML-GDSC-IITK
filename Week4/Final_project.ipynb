{
  "nbformat": 4,
  "nbformat_minor": 0,
  "metadata": {
    "colab": {
      "provenance": [],
      "gpuType": "T4"
    },
    "kernelspec": {
      "name": "python3",
      "display_name": "Python 3"
    },
    "language_info": {
      "name": "python"
    },
    "accelerator": "GPU"
  },
  "cells": [
    {
      "cell_type": "code",
      "execution_count": 8,
      "metadata": {
        "id": "2cLpRjqh-fd5"
      },
      "outputs": [],
      "source": [
        "import tensorflow as tf\n",
        "import numpy as np\n",
        "from tensorflow import keras\n",
        "import os\n",
        "import cv2\n",
        "from tensorflow.keras.preprocessing.image import ImageDataGenerator\n",
        "from tensorflow.keras.preprocessing import image\n",
        "import matplotlib.pyplot as plt"
      ]
    },
    {
      "cell_type": "code",
      "source": [
        "from google.colab import drive\n",
        "drive.mount('/content/drive')"
      ],
      "metadata": {
        "colab": {
          "base_uri": "https://localhost:8080/"
        },
        "id": "MBpjq11EDQ-L",
        "outputId": "ed05d8e4-e4ca-44d0-f926-d9f200ecc92c"
      },
      "execution_count": 9,
      "outputs": [
        {
          "output_type": "stream",
          "name": "stdout",
          "text": [
            "Mounted at /content/drive\n"
          ]
        }
      ]
    },
    {
      "cell_type": "code",
      "source": [
        "import tensorflow as tf\n",
        "from tensorflow import keras\n",
        "from keras import Sequential\n",
        "from keras.layers import Dense,Conv2D,MaxPooling2D,Flatten,BatchNormalization,Dropout"
      ],
      "metadata": {
        "id": "9QYXF2jrGdPg"
      },
      "execution_count": 10,
      "outputs": []
    },
    {
      "cell_type": "code",
      "source": [
        "train_ds=keras.utils.image_dataset_from_directory(\n",
        "    directory= '/content/drive/MyDrive/PetImages/PetImages/train',\n",
        "    labels='inferred',\n",
        "    label_mode='int',\n",
        "    batch_size=32,\n",
        "    image_size=(256,256)\n",
        "\n",
        ")\n",
        "test_ds=keras.utils.image_dataset_from_directory(\n",
        "    directory= '/content/drive/MyDrive/PetImages/PetImages/test',\n",
        "    labels='inferred',\n",
        "    label_mode='int',\n",
        "    batch_size=32,\n",
        "    image_size=(256,256)\n",
        "\n",
        ")"
      ],
      "metadata": {
        "id": "o6toFfQLOYqr",
        "outputId": "7a945c49-1536-4160-b5d8-a61029658547",
        "colab": {
          "base_uri": "https://localhost:8080/"
        }
      },
      "execution_count": 11,
      "outputs": [
        {
          "output_type": "stream",
          "name": "stdout",
          "text": [
            "Found 557 files belonging to 2 classes.\n",
            "Found 140 files belonging to 2 classes.\n"
          ]
        }
      ]
    },
    {
      "cell_type": "code",
      "source": [
        "#normalize\n",
        "def process(image,lebel):\n",
        "     image =tf.cast(image/255.,tf.float32)\n",
        "     return image,lebel\n",
        "\n",
        "train_ds=train_ds.map(process)\n",
        "test_ds=test_ds.map(process)"
      ],
      "metadata": {
        "id": "pC3RiLzrt9Y_"
      },
      "execution_count": 12,
      "outputs": []
    },
    {
      "cell_type": "code",
      "source": [
        "#create CNN model\n",
        "model=Sequential()\n",
        "model.add(Conv2D(32,kernel_size=(3,3),padding='valid',activation='relu',input_shape=(256,256,3)))\n",
        "model.add(MaxPooling2D(pool_size=(2,2),strides=2,padding='valid'))\n",
        "model.add(BatchNormalization())\n",
        "\n",
        "model.add(Conv2D(32,kernel_size=(3,3),padding='valid',activation='relu'))\n",
        "model.add(MaxPooling2D(pool_size=(2,2),strides=2,padding='valid'))\n",
        "model.add(BatchNormalization())\n",
        "\n",
        "model.add(Conv2D(32,kernel_size=(3,3),padding='valid',activation='relu'))\n",
        "model.add(MaxPooling2D(pool_size=(2,2),strides=2,padding='valid'))\n",
        "model.add(BatchNormalization())\n",
        "\n",
        "\n",
        "from tensorflow.keras.regularizers import l2\n",
        "\n",
        "# Example of adding dropout\n",
        "model.add(Dropout(0.5))\n",
        "\n",
        "# Example of L2 regularization for a Dense layer\n",
        "model.add(Dense(128, kernel_regularizer=l2(0.01)))\n",
        "model.add(Flatten())\n",
        "model.add(Dense(128,activation='relu'))\n",
        "model.add(Dropout(0.2))\n",
        "model.add(Dense(64,activation='sigmoid'))\n",
        "model.add(Dropout(0.5))\n",
        "model.add(Dense(1,activation='sigmoid'))"
      ],
      "metadata": {
        "id": "WQaOE_tOyrj2"
      },
      "execution_count": 58,
      "outputs": []
    },
    {
      "cell_type": "code",
      "source": [
        "model.summary()"
      ],
      "metadata": {
        "id": "bOiSF4dL00qS",
        "outputId": "66650958-2578-4583-b04e-2c7d8c9b4534",
        "colab": {
          "base_uri": "https://localhost:8080/"
        }
      },
      "execution_count": 59,
      "outputs": [
        {
          "output_type": "stream",
          "name": "stdout",
          "text": [
            "Model: \"sequential_1\"\n",
            "_________________________________________________________________\n",
            " Layer (type)                Output Shape              Param #   \n",
            "=================================================================\n",
            " conv2d_3 (Conv2D)           (None, 254, 254, 32)      896       \n",
            "                                                                 \n",
            " max_pooling2d_3 (MaxPoolin  (None, 127, 127, 32)      0         \n",
            " g2D)                                                            \n",
            "                                                                 \n",
            " batch_normalization_3 (Bat  (None, 127, 127, 32)      128       \n",
            " chNormalization)                                                \n",
            "                                                                 \n",
            " conv2d_4 (Conv2D)           (None, 125, 125, 32)      9248      \n",
            "                                                                 \n",
            " max_pooling2d_4 (MaxPoolin  (None, 62, 62, 32)        0         \n",
            " g2D)                                                            \n",
            "                                                                 \n",
            " batch_normalization_4 (Bat  (None, 62, 62, 32)        128       \n",
            " chNormalization)                                                \n",
            "                                                                 \n",
            " conv2d_5 (Conv2D)           (None, 60, 60, 32)        9248      \n",
            "                                                                 \n",
            " max_pooling2d_5 (MaxPoolin  (None, 30, 30, 32)        0         \n",
            " g2D)                                                            \n",
            "                                                                 \n",
            " batch_normalization_5 (Bat  (None, 30, 30, 32)        128       \n",
            " chNormalization)                                                \n",
            "                                                                 \n",
            " dropout_3 (Dropout)         (None, 30, 30, 32)        0         \n",
            "                                                                 \n",
            " dense_4 (Dense)             (None, 30, 30, 128)       4224      \n",
            "                                                                 \n",
            " flatten_1 (Flatten)         (None, 115200)            0         \n",
            "                                                                 \n",
            " dense_5 (Dense)             (None, 128)               14745728  \n",
            "                                                                 \n",
            " dropout_4 (Dropout)         (None, 128)               0         \n",
            "                                                                 \n",
            " dense_6 (Dense)             (None, 64)                8256      \n",
            "                                                                 \n",
            " dropout_5 (Dropout)         (None, 64)                0         \n",
            "                                                                 \n",
            " dense_7 (Dense)             (None, 1)                 65        \n",
            "                                                                 \n",
            "=================================================================\n",
            "Total params: 14778049 (56.37 MB)\n",
            "Trainable params: 14777857 (56.37 MB)\n",
            "Non-trainable params: 192 (768.00 Byte)\n",
            "_________________________________________________________________\n"
          ]
        }
      ]
    },
    {
      "cell_type": "code",
      "source": [
        "model.compile(optimizer='adam',loss='binary_crossentropy',metrics=['accuracy'])"
      ],
      "metadata": {
        "id": "6Sx3P4pI1EEk"
      },
      "execution_count": 60,
      "outputs": []
    },
    {
      "cell_type": "code",
      "source": [
        "hist=model.fit(train_ds,epochs=17,validation_data=test_ds)"
      ],
      "metadata": {
        "id": "7ASDHtdI1mIm",
        "outputId": "e3dd9939-ac16-4c5b-c0b5-6fb304d6c54e",
        "colab": {
          "base_uri": "https://localhost:8080/"
        }
      },
      "execution_count": 61,
      "outputs": [
        {
          "output_type": "stream",
          "name": "stdout",
          "text": [
            "Epoch 1/17\n",
            "18/18 [==============================] - 10s 187ms/step - loss: 1.3573 - accuracy: 0.5171 - val_loss: 1.1557 - val_accuracy: 0.4857\n",
            "Epoch 2/17\n",
            "18/18 [==============================] - 5s 203ms/step - loss: 1.1923 - accuracy: 0.5673 - val_loss: 1.1044 - val_accuracy: 0.4500\n",
            "Epoch 3/17\n",
            "18/18 [==============================] - 7s 258ms/step - loss: 1.1000 - accuracy: 0.6104 - val_loss: 1.0909 - val_accuracy: 0.5000\n",
            "Epoch 4/17\n",
            "18/18 [==============================] - 4s 166ms/step - loss: 1.0479 - accuracy: 0.6068 - val_loss: 1.1174 - val_accuracy: 0.5000\n",
            "Epoch 5/17\n",
            "18/18 [==============================] - 5s 244ms/step - loss: 0.9571 - accuracy: 0.6517 - val_loss: 1.0384 - val_accuracy: 0.4929\n",
            "Epoch 6/17\n",
            "18/18 [==============================] - 5s 204ms/step - loss: 0.9520 - accuracy: 0.6176 - val_loss: 1.0566 - val_accuracy: 0.5071\n",
            "Epoch 7/17\n",
            "18/18 [==============================] - 4s 171ms/step - loss: 0.9529 - accuracy: 0.6104 - val_loss: 1.0321 - val_accuracy: 0.5000\n",
            "Epoch 8/17\n",
            "18/18 [==============================] - 5s 233ms/step - loss: 0.8359 - accuracy: 0.6679 - val_loss: 1.0854 - val_accuracy: 0.5000\n",
            "Epoch 9/17\n",
            "18/18 [==============================] - 5s 209ms/step - loss: 0.8202 - accuracy: 0.7038 - val_loss: 1.0492 - val_accuracy: 0.5071\n",
            "Epoch 10/17\n",
            "18/18 [==============================] - 6s 249ms/step - loss: 0.8168 - accuracy: 0.6732 - val_loss: 0.9440 - val_accuracy: 0.4500\n",
            "Epoch 11/17\n",
            "18/18 [==============================] - 5s 204ms/step - loss: 0.7711 - accuracy: 0.7074 - val_loss: 1.0250 - val_accuracy: 0.5143\n",
            "Epoch 12/17\n",
            "18/18 [==============================] - 4s 170ms/step - loss: 0.6772 - accuracy: 0.7558 - val_loss: 1.0416 - val_accuracy: 0.5286\n",
            "Epoch 13/17\n",
            "18/18 [==============================] - 6s 218ms/step - loss: 0.6634 - accuracy: 0.7540 - val_loss: 0.8961 - val_accuracy: 0.5143\n",
            "Epoch 14/17\n",
            "18/18 [==============================] - 5s 206ms/step - loss: 0.6041 - accuracy: 0.7935 - val_loss: 0.8867 - val_accuracy: 0.5429\n",
            "Epoch 15/17\n",
            "18/18 [==============================] - 5s 193ms/step - loss: 0.5598 - accuracy: 0.8169 - val_loss: 0.9039 - val_accuracy: 0.5143\n",
            "Epoch 16/17\n",
            "18/18 [==============================] - 6s 247ms/step - loss: 0.5356 - accuracy: 0.8420 - val_loss: 0.9716 - val_accuracy: 0.5429\n",
            "Epoch 17/17\n",
            "18/18 [==============================] - 5s 209ms/step - loss: 0.4703 - accuracy: 0.8671 - val_loss: 0.9691 - val_accuracy: 0.5714\n"
          ]
        }
      ]
    },
    {
      "cell_type": "code",
      "source": [
        "hist=model.fit(train_ds,epochs=45,validation_data=test_ds)"
      ],
      "metadata": {
        "id": "PY5mRLFEJJnG",
        "outputId": "8d4defd8-1720-4ca9-91c1-d2dec202554e",
        "colab": {
          "base_uri": "https://localhost:8080/"
        }
      },
      "execution_count": 62,
      "outputs": [
        {
          "output_type": "stream",
          "name": "stdout",
          "text": [
            "Epoch 1/45\n",
            "18/18 [==============================] - 6s 208ms/step - loss: 0.3954 - accuracy: 0.8977 - val_loss: 0.9933 - val_accuracy: 0.5571\n",
            "Epoch 2/45\n",
            "18/18 [==============================] - 4s 171ms/step - loss: 0.3483 - accuracy: 0.9084 - val_loss: 1.0880 - val_accuracy: 0.5143\n",
            "Epoch 3/45\n",
            "18/18 [==============================] - 5s 203ms/step - loss: 0.3101 - accuracy: 0.9246 - val_loss: 0.8592 - val_accuracy: 0.6000\n",
            "Epoch 4/45\n",
            "18/18 [==============================] - 6s 227ms/step - loss: 0.2930 - accuracy: 0.9354 - val_loss: 0.8066 - val_accuracy: 0.6286\n",
            "Epoch 5/45\n",
            "18/18 [==============================] - 5s 209ms/step - loss: 0.2517 - accuracy: 0.9461 - val_loss: 1.0341 - val_accuracy: 0.5357\n",
            "Epoch 6/45\n",
            "18/18 [==============================] - 6s 208ms/step - loss: 0.1987 - accuracy: 0.9713 - val_loss: 1.0718 - val_accuracy: 0.6143\n",
            "Epoch 7/45\n",
            "18/18 [==============================] - 4s 177ms/step - loss: 0.1825 - accuracy: 0.9767 - val_loss: 1.1290 - val_accuracy: 0.6214\n",
            "Epoch 8/45\n",
            "18/18 [==============================] - 6s 250ms/step - loss: 0.1615 - accuracy: 0.9785 - val_loss: 0.9229 - val_accuracy: 0.6429\n",
            "Epoch 9/45\n",
            "18/18 [==============================] - 4s 172ms/step - loss: 0.1358 - accuracy: 0.9874 - val_loss: 1.1303 - val_accuracy: 0.6286\n",
            "Epoch 10/45\n",
            "18/18 [==============================] - 6s 257ms/step - loss: 0.1171 - accuracy: 0.9910 - val_loss: 1.0204 - val_accuracy: 0.6929\n",
            "Epoch 11/45\n",
            "18/18 [==============================] - 4s 167ms/step - loss: 0.1066 - accuracy: 0.9946 - val_loss: 1.1196 - val_accuracy: 0.6643\n",
            "Epoch 12/45\n",
            "18/18 [==============================] - 4s 172ms/step - loss: 0.1073 - accuracy: 0.9874 - val_loss: 1.3078 - val_accuracy: 0.6286\n",
            "Epoch 13/45\n",
            "18/18 [==============================] - 6s 252ms/step - loss: 0.0862 - accuracy: 0.9964 - val_loss: 1.6229 - val_accuracy: 0.6429\n",
            "Epoch 14/45\n",
            "18/18 [==============================] - 4s 170ms/step - loss: 0.0867 - accuracy: 0.9928 - val_loss: 1.3505 - val_accuracy: 0.6429\n",
            "Epoch 15/45\n",
            "18/18 [==============================] - 5s 206ms/step - loss: 0.1085 - accuracy: 0.9838 - val_loss: 1.5740 - val_accuracy: 0.5929\n",
            "Epoch 16/45\n",
            "18/18 [==============================] - 6s 247ms/step - loss: 0.1129 - accuracy: 0.9820 - val_loss: 1.4389 - val_accuracy: 0.6000\n",
            "Epoch 17/45\n",
            "18/18 [==============================] - 4s 172ms/step - loss: 0.0843 - accuracy: 0.9964 - val_loss: 1.3243 - val_accuracy: 0.6571\n",
            "Epoch 18/45\n",
            "18/18 [==============================] - 5s 208ms/step - loss: 0.0824 - accuracy: 0.9874 - val_loss: 1.3381 - val_accuracy: 0.6429\n",
            "Epoch 19/45\n",
            "18/18 [==============================] - 6s 255ms/step - loss: 0.0838 - accuracy: 0.9928 - val_loss: 1.4170 - val_accuracy: 0.6143\n",
            "Epoch 20/45\n",
            "18/18 [==============================] - 4s 178ms/step - loss: 0.0926 - accuracy: 0.9856 - val_loss: 1.4333 - val_accuracy: 0.6143\n",
            "Epoch 21/45\n",
            "18/18 [==============================] - 6s 219ms/step - loss: 0.0880 - accuracy: 0.9910 - val_loss: 1.2943 - val_accuracy: 0.6071\n",
            "Epoch 22/45\n",
            "18/18 [==============================] - 5s 205ms/step - loss: 0.0619 - accuracy: 0.9982 - val_loss: 1.3964 - val_accuracy: 0.6500\n",
            "Epoch 23/45\n",
            "18/18 [==============================] - 6s 253ms/step - loss: 0.0570 - accuracy: 0.9982 - val_loss: 1.3620 - val_accuracy: 0.6429\n",
            "Epoch 24/45\n",
            "18/18 [==============================] - 4s 172ms/step - loss: 0.0459 - accuracy: 1.0000 - val_loss: 1.4770 - val_accuracy: 0.6571\n",
            "Epoch 25/45\n",
            "18/18 [==============================] - 6s 236ms/step - loss: 0.0467 - accuracy: 1.0000 - val_loss: 1.4201 - val_accuracy: 0.6643\n",
            "Epoch 26/45\n",
            "18/18 [==============================] - 5s 206ms/step - loss: 0.0434 - accuracy: 0.9982 - val_loss: 1.3016 - val_accuracy: 0.6786\n",
            "Epoch 27/45\n",
            "18/18 [==============================] - 5s 208ms/step - loss: 0.0402 - accuracy: 1.0000 - val_loss: 1.2612 - val_accuracy: 0.6929\n",
            "Epoch 28/45\n",
            "18/18 [==============================] - 5s 177ms/step - loss: 0.0358 - accuracy: 1.0000 - val_loss: 1.3520 - val_accuracy: 0.6857\n",
            "Epoch 29/45\n",
            "18/18 [==============================] - 4s 171ms/step - loss: 0.0316 - accuracy: 1.0000 - val_loss: 1.4378 - val_accuracy: 0.6500\n",
            "Epoch 30/45\n",
            "18/18 [==============================] - 5s 231ms/step - loss: 0.0301 - accuracy: 1.0000 - val_loss: 1.4659 - val_accuracy: 0.6571\n",
            "Epoch 31/45\n",
            "18/18 [==============================] - 5s 171ms/step - loss: 0.0284 - accuracy: 1.0000 - val_loss: 1.4280 - val_accuracy: 0.6714\n",
            "Epoch 32/45\n",
            "18/18 [==============================] - 4s 170ms/step - loss: 0.0263 - accuracy: 1.0000 - val_loss: 1.4450 - val_accuracy: 0.6714\n",
            "Epoch 33/45\n",
            "18/18 [==============================] - 5s 244ms/step - loss: 0.0243 - accuracy: 1.0000 - val_loss: 1.4514 - val_accuracy: 0.6786\n",
            "Epoch 34/45\n",
            "18/18 [==============================] - 4s 174ms/step - loss: 0.0243 - accuracy: 1.0000 - val_loss: 1.4677 - val_accuracy: 0.6643\n",
            "Epoch 35/45\n",
            "18/18 [==============================] - 6s 258ms/step - loss: 0.0213 - accuracy: 1.0000 - val_loss: 1.4432 - val_accuracy: 0.6571\n",
            "Epoch 36/45\n",
            "18/18 [==============================] - 4s 170ms/step - loss: 0.0201 - accuracy: 1.0000 - val_loss: 1.4271 - val_accuracy: 0.6643\n",
            "Epoch 37/45\n",
            "18/18 [==============================] - 5s 229ms/step - loss: 0.0202 - accuracy: 1.0000 - val_loss: 1.4822 - val_accuracy: 0.6643\n",
            "Epoch 38/45\n",
            "18/18 [==============================] - 4s 173ms/step - loss: 0.0177 - accuracy: 1.0000 - val_loss: 1.4567 - val_accuracy: 0.6500\n",
            "Epoch 39/45\n",
            "18/18 [==============================] - 6s 247ms/step - loss: 0.0236 - accuracy: 0.9964 - val_loss: 1.3651 - val_accuracy: 0.6571\n",
            "Epoch 40/45\n",
            "18/18 [==============================] - 4s 174ms/step - loss: 0.0182 - accuracy: 1.0000 - val_loss: 1.3516 - val_accuracy: 0.6786\n",
            "Epoch 41/45\n",
            "18/18 [==============================] - 4s 170ms/step - loss: 0.0182 - accuracy: 1.0000 - val_loss: 1.3254 - val_accuracy: 0.6929\n",
            "Epoch 42/45\n",
            "18/18 [==============================] - 6s 249ms/step - loss: 0.0192 - accuracy: 1.0000 - val_loss: 1.3636 - val_accuracy: 0.6429\n",
            "Epoch 43/45\n",
            "18/18 [==============================] - 5s 206ms/step - loss: 0.0204 - accuracy: 1.0000 - val_loss: 1.4414 - val_accuracy: 0.6429\n",
            "Epoch 44/45\n",
            "18/18 [==============================] - 5s 209ms/step - loss: 0.0193 - accuracy: 0.9982 - val_loss: 1.3504 - val_accuracy: 0.7143\n",
            "Epoch 45/45\n",
            "18/18 [==============================] - 6s 262ms/step - loss: 0.0364 - accuracy: 0.9928 - val_loss: 1.4521 - val_accuracy: 0.6786\n"
          ]
        }
      ]
    },
    {
      "cell_type": "code",
      "source": [
        "hist=model.fit(train_ds,epochs=45,validation_data=test_ds)"
      ],
      "metadata": {
        "id": "wyrvape-15qk",
        "outputId": "e0a87f30-eb50-47a4-fd3d-a65b5bd83ce6",
        "colab": {
          "base_uri": "https://localhost:8080/"
        }
      },
      "execution_count": 18,
      "outputs": [
        {
          "output_type": "stream",
          "name": "stdout",
          "text": [
            "Epoch 1/45\n",
            "18/18 [==============================] - 6s 227ms/step - loss: 0.0050 - accuracy: 1.0000 - val_loss: 1.2706 - val_accuracy: 0.7000\n",
            "Epoch 2/45\n",
            "18/18 [==============================] - 4s 170ms/step - loss: 0.0049 - accuracy: 1.0000 - val_loss: 1.3790 - val_accuracy: 0.6571\n",
            "Epoch 3/45\n",
            "18/18 [==============================] - 6s 250ms/step - loss: 0.0049 - accuracy: 1.0000 - val_loss: 1.2760 - val_accuracy: 0.6929\n",
            "Epoch 4/45\n",
            "18/18 [==============================] - 5s 205ms/step - loss: 0.0043 - accuracy: 1.0000 - val_loss: 1.2567 - val_accuracy: 0.6786\n",
            "Epoch 5/45\n",
            "18/18 [==============================] - 6s 249ms/step - loss: 0.0044 - accuracy: 1.0000 - val_loss: 1.2569 - val_accuracy: 0.6857\n",
            "Epoch 6/45\n",
            "18/18 [==============================] - 4s 174ms/step - loss: 0.0040 - accuracy: 1.0000 - val_loss: 1.2653 - val_accuracy: 0.6714\n",
            "Epoch 7/45\n",
            "18/18 [==============================] - 6s 234ms/step - loss: 0.0038 - accuracy: 1.0000 - val_loss: 1.2722 - val_accuracy: 0.6857\n",
            "Epoch 8/45\n",
            "18/18 [==============================] - 4s 175ms/step - loss: 0.0037 - accuracy: 1.0000 - val_loss: 1.3119 - val_accuracy: 0.6786\n",
            "Epoch 9/45\n",
            "18/18 [==============================] - 8s 413ms/step - loss: 0.0039 - accuracy: 1.0000 - val_loss: 1.4030 - val_accuracy: 0.6786\n",
            "Epoch 10/45\n",
            "18/18 [==============================] - 8s 355ms/step - loss: 0.0995 - accuracy: 0.9677 - val_loss: 2.7457 - val_accuracy: 0.5357\n",
            "Epoch 11/45\n",
            "18/18 [==============================] - 8s 254ms/step - loss: 0.3671 - accuracy: 0.8797 - val_loss: 1.7274 - val_accuracy: 0.5429\n",
            "Epoch 12/45\n",
            "18/18 [==============================] - 5s 209ms/step - loss: 0.3688 - accuracy: 0.8707 - val_loss: 0.8370 - val_accuracy: 0.5429\n",
            "Epoch 13/45\n",
            "18/18 [==============================] - 6s 247ms/step - loss: 0.2149 - accuracy: 0.9282 - val_loss: 1.1268 - val_accuracy: 0.5929\n",
            "Epoch 14/45\n",
            "18/18 [==============================] - 5s 233ms/step - loss: 0.1182 - accuracy: 0.9695 - val_loss: 1.0841 - val_accuracy: 0.6643\n",
            "Epoch 15/45\n",
            "18/18 [==============================] - 6s 247ms/step - loss: 0.0801 - accuracy: 0.9892 - val_loss: 1.1949 - val_accuracy: 0.6857\n",
            "Epoch 16/45\n",
            "18/18 [==============================] - 5s 207ms/step - loss: 0.0520 - accuracy: 0.9982 - val_loss: 1.1058 - val_accuracy: 0.6714\n",
            "Epoch 17/45\n",
            "18/18 [==============================] - 6s 263ms/step - loss: 0.0524 - accuracy: 0.9928 - val_loss: 1.1897 - val_accuracy: 0.6786\n",
            "Epoch 18/45\n",
            "18/18 [==============================] - 4s 173ms/step - loss: 0.0438 - accuracy: 0.9946 - val_loss: 1.2746 - val_accuracy: 0.7143\n",
            "Epoch 19/45\n",
            "18/18 [==============================] - 6s 267ms/step - loss: 0.0336 - accuracy: 1.0000 - val_loss: 1.2852 - val_accuracy: 0.7000\n",
            "Epoch 20/45\n",
            "18/18 [==============================] - 5s 206ms/step - loss: 0.0323 - accuracy: 1.0000 - val_loss: 1.2606 - val_accuracy: 0.7071\n",
            "Epoch 21/45\n",
            "18/18 [==============================] - 5s 205ms/step - loss: 0.0309 - accuracy: 1.0000 - val_loss: 1.3450 - val_accuracy: 0.7071\n",
            "Epoch 22/45\n",
            "18/18 [==============================] - 6s 219ms/step - loss: 0.0265 - accuracy: 1.0000 - val_loss: 1.2968 - val_accuracy: 0.7071\n",
            "Epoch 23/45\n",
            "18/18 [==============================] - 4s 174ms/step - loss: 0.0271 - accuracy: 0.9982 - val_loss: 1.2551 - val_accuracy: 0.7143\n",
            "Epoch 24/45\n",
            "18/18 [==============================] - 8s 225ms/step - loss: 0.0300 - accuracy: 0.9964 - val_loss: 1.3107 - val_accuracy: 0.6929\n",
            "Epoch 25/45\n",
            "18/18 [==============================] - 5s 206ms/step - loss: 0.0238 - accuracy: 0.9982 - val_loss: 1.3382 - val_accuracy: 0.6857\n",
            "Epoch 26/45\n",
            "18/18 [==============================] - 6s 215ms/step - loss: 0.0241 - accuracy: 0.9982 - val_loss: 1.3557 - val_accuracy: 0.6857\n",
            "Epoch 27/45\n",
            "18/18 [==============================] - 5s 211ms/step - loss: 0.0209 - accuracy: 1.0000 - val_loss: 1.3980 - val_accuracy: 0.6857\n",
            "Epoch 28/45\n",
            "18/18 [==============================] - 6s 232ms/step - loss: 0.0192 - accuracy: 1.0000 - val_loss: 1.3893 - val_accuracy: 0.7000\n",
            "Epoch 29/45\n",
            "18/18 [==============================] - 5s 207ms/step - loss: 0.0176 - accuracy: 1.0000 - val_loss: 1.4429 - val_accuracy: 0.6786\n",
            "Epoch 30/45\n",
            "18/18 [==============================] - 5s 203ms/step - loss: 0.0162 - accuracy: 1.0000 - val_loss: 1.4328 - val_accuracy: 0.6714\n",
            "Epoch 31/45\n",
            "18/18 [==============================] - 5s 174ms/step - loss: 0.0146 - accuracy: 1.0000 - val_loss: 1.4253 - val_accuracy: 0.6857\n",
            "Epoch 32/45\n",
            "18/18 [==============================] - 4s 168ms/step - loss: 0.0137 - accuracy: 1.0000 - val_loss: 1.4192 - val_accuracy: 0.6857\n",
            "Epoch 33/45\n",
            "18/18 [==============================] - 5s 212ms/step - loss: 0.0133 - accuracy: 1.0000 - val_loss: 1.4411 - val_accuracy: 0.6929\n",
            "Epoch 34/45\n",
            "18/18 [==============================] - 6s 209ms/step - loss: 0.0135 - accuracy: 1.0000 - val_loss: 1.3233 - val_accuracy: 0.6929\n",
            "Epoch 35/45\n",
            "18/18 [==============================] - 5s 218ms/step - loss: 0.0129 - accuracy: 1.0000 - val_loss: 1.3940 - val_accuracy: 0.6929\n",
            "Epoch 36/45\n",
            "18/18 [==============================] - 5s 175ms/step - loss: 0.0122 - accuracy: 1.0000 - val_loss: 1.3550 - val_accuracy: 0.7143\n",
            "Epoch 37/45\n",
            "18/18 [==============================] - 4s 173ms/step - loss: 0.0109 - accuracy: 1.0000 - val_loss: 1.4136 - val_accuracy: 0.6929\n",
            "Epoch 38/45\n",
            "18/18 [==============================] - 5s 240ms/step - loss: 0.0097 - accuracy: 1.0000 - val_loss: 1.4255 - val_accuracy: 0.7143\n",
            "Epoch 39/45\n",
            "18/18 [==============================] - 4s 176ms/step - loss: 0.0093 - accuracy: 1.0000 - val_loss: 1.4591 - val_accuracy: 0.7143\n",
            "Epoch 40/45\n",
            "18/18 [==============================] - 6s 248ms/step - loss: 0.0084 - accuracy: 1.0000 - val_loss: 1.4734 - val_accuracy: 0.7286\n",
            "Epoch 41/45\n",
            "18/18 [==============================] - 5s 211ms/step - loss: 0.0079 - accuracy: 1.0000 - val_loss: 1.4774 - val_accuracy: 0.7286\n",
            "Epoch 42/45\n",
            "18/18 [==============================] - 6s 254ms/step - loss: 0.0074 - accuracy: 1.0000 - val_loss: 1.4671 - val_accuracy: 0.7286\n",
            "Epoch 43/45\n",
            "18/18 [==============================] - 5s 210ms/step - loss: 0.0071 - accuracy: 1.0000 - val_loss: 1.4962 - val_accuracy: 0.7143\n",
            "Epoch 44/45\n",
            "18/18 [==============================] - 6s 253ms/step - loss: 0.0064 - accuracy: 1.0000 - val_loss: 1.5121 - val_accuracy: 0.7071\n",
            "Epoch 45/45\n",
            "18/18 [==============================] - 5s 207ms/step - loss: 0.0063 - accuracy: 1.0000 - val_loss: 1.5247 - val_accuracy: 0.7000\n"
          ]
        }
      ]
    },
    {
      "cell_type": "code",
      "source": [
        "from sklearn.metrics import f1_score\n",
        "# Make predictions on the test dataset\n",
        "predictions = model.predict(test_ds)\n",
        "\n",
        "# Convert probabilities to binary predictions using a threshold (adjust as needed)\n",
        "threshold = 0.5\n",
        "binary_predictions = (predictions > threshold).astype(int)\n",
        "\n",
        "# Extract true labels from 'test_ds'\n",
        "true_labels = np.concatenate([y for x, y in test_ds], axis=0)\n",
        "\n",
        "# Calculate F1 score\n",
        "f1 = f1_score(true_labels, binary_predictions)"
      ],
      "metadata": {
        "id": "Kck6qiqXrfhF",
        "outputId": "801bb766-38d0-4778-e4f1-425b1c02412e",
        "colab": {
          "base_uri": "https://localhost:8080/"
        }
      },
      "execution_count": 72,
      "outputs": [
        {
          "output_type": "stream",
          "name": "stdout",
          "text": [
            "5/5 [==============================] - 1s 27ms/step\n"
          ]
        }
      ]
    },
    {
      "cell_type": "code",
      "source": [
        "print(f1)"
      ],
      "metadata": {
        "id": "0hqDBeoprx5M",
        "outputId": "72798342-cadb-4022-85a1-2e346cef59d6",
        "colab": {
          "base_uri": "https://localhost:8080/"
        }
      },
      "execution_count": 73,
      "outputs": [
        {
          "output_type": "stream",
          "name": "stdout",
          "text": [
            "0.5793103448275861\n"
          ]
        }
      ]
    }
  ]
}